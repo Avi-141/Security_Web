{
 "cells": [
  {
   "cell_type": "code",
   "execution_count": 2,
   "metadata": {},
   "outputs": [],
   "source": [
    "import pronto"
   ]
  },
  {
   "cell_type": "code",
   "execution_count": 4,
   "metadata": {},
   "outputs": [],
   "source": [
    "ms = pronto.Ontology(\"https://raw.githubusercontent.com/HUPO-PSI/psi-ms-CV/master/psi-ms.obo\")"
   ]
  },
  {
   "cell_type": "code",
   "execution_count": 62,
   "metadata": {},
   "outputs": [],
   "source": [
    "keyword = \"sample state\"\n",
    "keyword = keyword.split()\n",
    "similarity = 0\n",
    "syn_onto = \"-1\"\n",
    "synonyms = []"
   ]
  },
  {
   "cell_type": "code",
   "execution_count": 63,
   "metadata": {},
   "outputs": [],
   "source": [
    "for term in ms:\n",
    "    s=term.name\n",
    "    s=s.split()\n",
    "    sm = 0\n",
    "    for w2 in s:\n",
    "        simi = 0\n",
    "        for keys in keyword:\n",
    "            try:\n",
    "                simi = max(model.wv.similarity(keys,w2),simi)\n",
    "            except:\n",
    "                if keys == w2:\n",
    "                    simi = 1.0\n",
    "                else:\n",
    "                    # can use edit distance for word similarity: ED/2*Max(Words' length)\n",
    "                    pass    \n",
    "        sm += simi\n",
    "    if sm > similarity:\n",
    "        synonyms = []\n",
    "        synonyms.append(term.name)\n",
    "        similarity = sm\n",
    "    elif sm == similarity:\n",
    "        synonyms.append(term.name)\n",
    "        "
   ]
  },
  {
   "cell_type": "code",
   "execution_count": 64,
   "metadata": {},
   "outputs": [
    {
     "name": "stdout",
     "output_type": "stream",
     "text": [
      "['sample state', 'gaseous sample state', 'liquid sample state', 'solid sample state']\n"
     ]
    }
   ],
   "source": [
    "print (synonyms)"
   ]
  },
  {
   "cell_type": "code",
   "execution_count": 68,
   "metadata": {},
   "outputs": [],
   "source": [
    "children_array = []\n",
    "for word in synonyms:\n",
    "    for term in ms:\n",
    "        if word == term.name and term.children:\n",
    "            children_array += term.children.name        "
   ]
  },
  {
   "cell_type": "code",
   "execution_count": 69,
   "metadata": {},
   "outputs": [],
   "source": [
    "for word in children_array:\n",
    "    for term in ms:\n",
    "        if word == term.name and term.children:\n",
    "            synonyms.append(term.children.name)\n",
    "            \n",
    "synonyms += children_array"
   ]
  },
  {
   "cell_type": "code",
   "execution_count": 73,
   "metadata": {},
   "outputs": [
    {
     "name": "stdout",
     "output_type": "stream",
     "text": [
      "['sample state', 'gaseous sample state', 'liquid sample state', 'solid sample state', 'emulsion', 'gaseous sample state', 'liquid sample state', 'solid sample state', 'solution', 'suspension']\n"
     ]
    }
   ],
   "source": [
    "print (synonyms)\n",
    "# print (children_array)"
   ]
  },
  {
   "cell_type": "code",
   "execution_count": null,
   "metadata": {},
   "outputs": [],
   "source": []
  }
 ],
 "metadata": {
  "kernelspec": {
   "display_name": "Python 3",
   "language": "python",
   "name": "python3"
  },
  "language_info": {
   "codemirror_mode": {
    "name": "ipython",
    "version": 3
   },
   "file_extension": ".py",
   "mimetype": "text/x-python",
   "name": "python",
   "nbconvert_exporter": "python",
   "pygments_lexer": "ipython3",
   "version": "3.5.2"
  }
 },
 "nbformat": 4,
 "nbformat_minor": 2
}
